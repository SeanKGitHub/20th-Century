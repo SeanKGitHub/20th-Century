{
 "cells": [
  {
   "cell_type": "markdown",
   "id": "94fcdd98-3dd5-403d-8632-3a6240bacb2e",
   "metadata": {},
   "source": [
    "Test"
   ]
  },
  {
   "cell_type": "code",
   "execution_count": 1,
   "id": "9eba9a9c-a8dc-484f-ab48-a933b955dec6",
   "metadata": {},
   "outputs": [
    {
     "name": "stdout",
     "output_type": "stream",
     "text": [
      "2.9285714285714284\n"
     ]
    }
   ],
   "source": [
    "print(123/42)"
   ]
  },
  {
   "cell_type": "code",
   "execution_count": null,
   "id": "cac4d10e-fbaa-48df-bc2c-8a49aaa5ec3e",
   "metadata": {},
   "outputs": [],
   "source": []
  }
 ],
 "metadata": {
  "kernelspec": {
   "display_name": "Python [conda env:base] *",
   "language": "python",
   "name": "conda-base-py"
  },
  "language_info": {
   "codemirror_mode": {
    "name": "ipython",
    "version": 3
   },
   "file_extension": ".py",
   "mimetype": "text/x-python",
   "name": "python",
   "nbconvert_exporter": "python",
   "pygments_lexer": "ipython3",
   "version": "3.12.7"
  }
 },
 "nbformat": 4,
 "nbformat_minor": 5
}
